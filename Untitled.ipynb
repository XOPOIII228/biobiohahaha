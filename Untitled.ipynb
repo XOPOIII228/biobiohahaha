{
 "cells": [
  {
   "cell_type": "code",
   "execution_count": 46,
   "id": "d24dc2b2-003e-461f-a505-7be29b212675",
   "metadata": {},
   "outputs": [],
   "source": [
    "import numpy as np\n",
    "import math\n",
    "sequence = [\"ATCCAGCT\",\n",
    "\"GGGCAACT\",\n",
    "\"ATGGATCT\",\n",
    "\"AAGCAACC\",\n",
    "\"TTGGAACT\",\n",
    "\"ATGCCATT\",\n",
    "\"ATGGCACT\"]\n"
   ]
  },
  {
   "cell_type": "code",
   "execution_count": 48,
   "id": "f7c187f9-4d33-492f-8ccd-94344cd1e3c9",
   "metadata": {},
   "outputs": [
    {
     "data": {
      "text/plain": [
       "{'A': [5, 1, 0, 0, 5, 5, 0, 0],\n",
       " 'G': [1, 1, 6, 3, 0, 1, 0, 0],\n",
       " 'T': [1, 5, 0, 0, 0, 1, 1, 6],\n",
       " 'C': [0, 0, 1, 4, 2, 0, 6, 1]}"
      ]
     },
     "execution_count": 48,
     "metadata": {},
     "output_type": "execute_result"
    }
   ],
   "source": [
    "\n",
    "def create_pfm_with_arrays(sequences):\n",
    "    length = max(len(seq) for seq in sequences)\n",
    "    pfm = {'A': [0] * length, 'G': [0] * length, 'T': [0] * length, 'C': [0] * length}\n",
    "    total_sequences = len(sequences)\n",
    "    for seq in sequences:\n",
    "        for i, base in enumerate(seq):\n",
    "            pfm[base][i] += 1\n",
    "    \n",
    "    return pfm\n",
    "\n",
    "\n",
    "pfm = create_pfm_with_arrays(sequence)\n",
    "pfm\n"
   ]
  },
  {
   "cell_type": "code",
   "execution_count": 49,
   "id": "c3657d78-5281-4a80-8374-da1f21c087b1",
   "metadata": {},
   "outputs": [
    {
     "data": {
      "text/plain": [
       "{'A': [0.71, 0.14, 0, 0, 0.71, 0.71, 0, 0],\n",
       " 'G': [0.14, 0.14, 0.86, 0.43, 0, 0.14, 0, 0],\n",
       " 'T': [0.14, 0.71, 0, 0, 0, 0.14, 0.14, 0.86],\n",
       " 'C': [0, 0, 0.14, 0.57, 0.29, 0, 0.86, 0.14]}"
      ]
     },
     "execution_count": 49,
     "metadata": {},
     "output_type": "execute_result"
    }
   ],
   "source": [
    "def create_pwm_with_arrays(sequences):\n",
    "    length = max(len(seq) for seq in sequences)\n",
    "    pwm = {'A': [0] * length, 'G': [0] * length, 'T': [0] * length, 'C': [0] * length}\n",
    "    total_sequences = len(sequences)\n",
    "    for seq in sequences:\n",
    "        for i, base in enumerate(seq):\n",
    "            pwm[base][i] += 1\n",
    "            \n",
    "    for base in pwm:\n",
    "        for i in range(length):\n",
    "            prob = pwm[base][i] / total_sequences\n",
    "            pwm[base][i] = math.log2(prob / 0.25) if prob != 0 else 0\n",
    "    return pwm\n",
    "\n",
    "ppm = create_ppm_with_arrays(sequence)\n",
    "\n",
    "\n",
    "rounded_ppm = {\n",
    "    'A': [round(prob, 2) for prob in ppm['A']],\n",
    "    'G': [round(prob, 2) for prob in ppm['G']],\n",
    "    'T': [round(prob, 2) for prob in ppm['T']],\n",
    "    'C': [round(prob, 2) for prob in ppm['C']]\n",
    "}\n",
    "rounded_ppm"
   ]
  },
  {
   "cell_type": "code",
   "execution_count": 50,
   "id": "7a91dad9-46f7-4e17-ba23-36b1988e4c71",
   "metadata": {},
   "outputs": [
    {
     "data": {
      "text/plain": [
       "{'A': [1.51, -0.81, 0, 0, 1.51, 1.51, 0, 0],\n",
       " 'G': [-0.81, -0.81, 1.78, 0.78, 0, -0.81, 0, 0],\n",
       " 'T': [-0.81, 1.51, 0, 0, 0, -0.81, -0.81, 1.78],\n",
       " 'C': [0, 0, -0.81, 1.19, 0.19, 0, 1.78, -0.81]}"
      ]
     },
     "execution_count": 50,
     "metadata": {},
     "output_type": "execute_result"
    }
   ],
   "source": [
    "\n",
    "def create_pwm_with_arrays(sequences):\n",
    "    length = max(len(seq) for seq in sequences)\n",
    "    pwm = {'A': [0] * length, 'G': [0] * length, 'T': [0] * length, 'C': [0] * length}\n",
    "    total_sequences = len(sequences)\n",
    "    for seq in sequences:\n",
    "        for i, base in enumerate(seq):\n",
    "            pwm[base][i] += 1\n",
    "            \n",
    "    for base in pwm:\n",
    "        for i in range(length):\n",
    "            prob = pwm[base][i] / total_sequences\n",
    "            pwm[base][i] = math.log2(prob / 0.25) if prob != 0 else 0\n",
    "    return pwm\n",
    "\n",
    "pwm = create_pwm_with_arrays(sequence)\n",
    "\n",
    "rounded_pwm = {\n",
    "    'A': [round(prob, 2) for prob in pwm['A']],\n",
    "    'G': [round(prob, 2) for prob in pwm['G']],\n",
    "    'T': [round(prob, 2) for prob in pwm['T']],\n",
    "    'C': [round(prob, 2) for prob in pwm['C']]\n",
    "}\n",
    "rounded_pwm"
   ]
  },
  {
   "cell_type": "code",
   "execution_count": 54,
   "id": "3c4666a0-fdbb-4fe1-a2ab-e2ff3a07b51f",
   "metadata": {},
   "outputs": [
    {
     "data": {
      "text/plain": [
       "1.6854752972273346"
      ]
     },
     "execution_count": 54,
     "metadata": {},
     "output_type": "execute_result"
    }
   ],
   "source": [
    "arr = [0.5, 0.3, 0.1, 0.1]\n",
    "S = 0\n",
    "for i in arr:\n",
    "    S += -i*np.log2(i)\n",
    "S"
   ]
  },
  {
   "cell_type": "code",
   "execution_count": 55,
   "id": "560c625e-6309-4675-9632-e4e7d8d02636",
   "metadata": {},
   "outputs": [
    {
     "data": {
      "text/plain": [
       "array([0.15726235, 0.09435741, 0.03145247, 0.03145247])"
      ]
     },
     "execution_count": 55,
     "metadata": {},
     "output_type": "execute_result"
    }
   ],
   "source": [
    "(2 - S) * np.array(arr)"
   ]
  },
  {
   "cell_type": "code",
   "execution_count": null,
   "id": "03195ae4-e16d-4e77-ae22-dc9163cf6bd3",
   "metadata": {},
   "outputs": [],
   "source": []
  }
 ],
 "metadata": {
  "kernelspec": {
   "display_name": "Python 3 (ipykernel)",
   "language": "python",
   "name": "python3"
  },
  "language_info": {
   "codemirror_mode": {
    "name": "ipython",
    "version": 3
   },
   "file_extension": ".py",
   "mimetype": "text/x-python",
   "name": "python",
   "nbconvert_exporter": "python",
   "pygments_lexer": "ipython3",
   "version": "3.12.9"
  }
 },
 "nbformat": 4,
 "nbformat_minor": 5
}
